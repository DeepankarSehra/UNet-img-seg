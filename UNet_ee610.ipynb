{
  "cells": [
    {
      "cell_type": "code",
      "execution_count": null,
      "metadata": {
        "id": "DRmobSaa6rBp"
      },
      "outputs": [
        {
          "ename": "",
          "evalue": "",
          "output_type": "error",
          "traceback": [
            "\u001b[1;31mRunning cells with 'Python 3.10.0 64-bit' requires ipykernel package.\n",
            "\u001b[1;31mRun the following command to install 'ipykernel' into the Python environment. \n",
            "\u001b[1;31mCommand: 'c:/Python310/python.exe -m pip install ipykernel -U --user --force-reinstall'"
          ]
        }
      ],
      "source": [
        "import tensorflow as tf\n",
        "from tensorflow import keras\n",
        "from tensorflow.keras import layers\n",
        "import tensorflow_datasets as tfds\n",
        "import matplotlib.pyplot as plt\n",
        "import numpy as np\n",
        "import cv2 as cv\n",
        "import glob\n",
        "import os\n",
        "import pathlib\n",
        "from google.colab.patches import cv2_imshow\n",
        "from keras.models import *\n",
        "from keras.layers import *\n",
        "\n",
        "\n",
        "from matplotlib import pyplot as plt #for plotting images and histogram\n",
        "import pylab #for normalizing size of image when plotted\n",
        "pylab.rcParams['figure.figsize'] = (18.0, 15.0) #defining the normal size"
      ]
    },
    {
      "cell_type": "code",
      "execution_count": null,
      "metadata": {
        "colab": {
          "base_uri": "https://localhost:8080/"
        },
        "id": "ZDHsaHoQQW9c",
        "outputId": "ad20208b-8aff-47da-b4a9-2cc15249e43e"
      },
      "outputs": [
        {
          "ename": "",
          "evalue": "",
          "output_type": "error",
          "traceback": [
            "\u001b[1;31mRunning cells with 'Python 3.10.0 64-bit' requires ipykernel package.\n",
            "\u001b[1;31mRun the following command to install 'ipykernel' into the Python environment. \n",
            "\u001b[1;31mCommand: 'c:/Python310/python.exe -m pip install ipykernel -U --user --force-reinstall'"
          ]
        }
      ],
      "source": [
        "!gdown 19S17cy63qREGt44pEVF08kUrb0lZE-Sf\n",
        "!gdown 1_vvL1f2C6qvGiZx-sslVfeiQiOVxVODP    #downloading the zip files for the images, masks both testing and training\n",
        "!gdown 1-mUQXczC0wwR1zOfH-OGMUj5pjBg4uyS\n",
        "!gdown 1YLYa0K2eClK22TVEW10zNYTnbelWJS40"
      ]
    },
    {
      "cell_type": "code",
      "execution_count": null,
      "metadata": {
        "id": "NNttXYxPoMbh"
      },
      "outputs": [
        {
          "ename": "",
          "evalue": "",
          "output_type": "error",
          "traceback": [
            "\u001b[1;31mRunning cells with 'Python 3.10.0 64-bit' requires ipykernel package.\n",
            "\u001b[1;31mRun the following command to install 'ipykernel' into the Python environment. \n",
            "\u001b[1;31mCommand: 'c:/Python310/python.exe -m pip install ipykernel -U --user --force-reinstall'"
          ]
        }
      ],
      "source": [
        "# !rm -rf Tissue-Images/\n",
        "# !rm -rf Tissue-Images-Test/\n",
        "# !rm -rf Binary-Mask/          #for testing purposes\n",
        "# !rm -rf Binary-Mask-Test/\n",
        "# !rm -rf tissue_image.zip       \n",
        "# !rm -rf tissue_image-test.zip\n",
        "# !rm -rf binary_mask.zip\n",
        "# !rm -rf binary_mask_test.zip"
      ]
    },
    {
      "cell_type": "code",
      "execution_count": null,
      "metadata": {
        "colab": {
          "base_uri": "https://localhost:8080/"
        },
        "id": "nIFmrMRk7DkN",
        "outputId": "933ba96c-5a35-4040-98a6-17be45862884"
      },
      "outputs": [
        {
          "ename": "",
          "evalue": "",
          "output_type": "error",
          "traceback": [
            "\u001b[1;31mRunning cells with 'Python 3.10.0 64-bit' requires ipykernel package.\n",
            "\u001b[1;31mRun the following command to install 'ipykernel' into the Python environment. \n",
            "\u001b[1;31mCommand: 'c:/Python310/python.exe -m pip install ipykernel -U --user --force-reinstall'"
          ]
        }
      ],
      "source": [
        "!unzip '/content/tissue_image.zip' \n",
        "!unzip '/content/binary_mask.zip'     #unzipping the zip files for the tissue images and masks training and testing\n",
        "!unzip '/content/tissue_image-test.zip' \n",
        "!unzip '/content/binary_mask_test.zip' "
      ]
    },
    {
      "cell_type": "code",
      "execution_count": null,
      "metadata": {
        "id": "vCVuaUyGTndu"
      },
      "outputs": [
        {
          "ename": "",
          "evalue": "",
          "output_type": "error",
          "traceback": [
            "\u001b[1;31mRunning cells with 'Python 3.10.0 64-bit' requires ipykernel package.\n",
            "\u001b[1;31mRun the following command to install 'ipykernel' into the Python environment. \n",
            "\u001b[1;31mCommand: 'c:/Python310/python.exe -m pip install ipykernel -U --user --force-reinstall'"
          ]
        }
      ],
      "source": [
        "!rm -rf Tissue-Images/._*\n",
        "!rm -rf Tissue-Images-Test/._*        # for some reason the folders also had some copies of the images with a \"._\" prefix\n",
        "!rm -rf Binary-Mask/._*               # it might have been be of some value but i couldn't figure out what to do with them so deleted them from the folder\n",
        "!rm -rf Binary-Mask-Test/._*\n",
        "# !rm -rf tissue_image.zip       \n",
        "# !rm -rf tissue_image-test.zip\n",
        "# !rm -rf binary_mask.zip\n",
        "# !rm -rf binary_mask_test.zip"
      ]
    },
    {
      "cell_type": "code",
      "execution_count": null,
      "metadata": {
        "colab": {
          "base_uri": "https://localhost:8080/",
          "height": 867
        },
        "id": "E6uQaHpZO8DD",
        "outputId": "7e76c7a4-c537-4dc8-8fd6-6ae1f3ee63ae"
      },
      "outputs": [],
      "source": [
        "# data_dir = '/content/Tissue-Images-Test'\n",
        "# data_dir = pathlib.Path('Tissue-Images-Test')\n",
        "# image_count = sorted(glob.glob('/content/Tissue-Images-Test/*.png'))\n",
        "# print(image_count)\n",
        "\n",
        "sorted_tissue = sorted(os.listdir('/content/Tissue-Images'))              #sorted both the directories, test and train, so that they give the same named file when called\n",
        "sorted_tissue_test = sorted(os.listdir('/content/Tissue-Images-Test/'))\n",
        "\n",
        "\n",
        "count1 = 0\n",
        "for filename1 in os.listdir('/content/Tissue-Images'):        # first naive attempt at removing \"._\" prefixed names, this also worked but realised the above one\n",
        "  for filename2 in os.listdir('/content/Binary-Mask'):\n",
        "    filename = list(filename1)\n",
        "    if filename[0] == '.':\n",
        "      filename = filename[2:]\n",
        "      filename1 = ''.join(filename)\n",
        "    if filename1 == filename2:\n",
        "      img = plt.imread(os.path.join('/content/Binary-Mask/', filename1), 0)   # printed a binary mask image for when after the \"._\" thing was removed\n",
        "      img = img/255.0                 # image to binary pixel conversion      # half of the code is absolete now but this was what i first started off with\n",
        "      plt.imshow(img)\n",
        "      count1 +=1\n",
        "    if count1 == 1:\n",
        "      break\n",
        "  if count1 == 1:\n",
        "    break\n",
        "\n",
        "\n",
        "# # count = 0\n",
        "# for filename2 in os.listdir('/content/Binary-Mask'):\n",
        "#   # count +=1\n",
        "#   print(filename2)\n",
        "#   if count == 10:\n",
        "#     break\n",
        "\n"
      ]
    },
    {
      "cell_type": "code",
      "execution_count": null,
      "metadata": {
        "colab": {
          "base_uri": "https://localhost:8080/",
          "height": 867
        },
        "id": "ViNTO0YPlscE",
        "outputId": "ad6ae9a0-dc1d-4e6e-f61d-cb924b4fd160"
      },
      "outputs": [],
      "source": [
        "# PLOTTING THE TRAIN TISSUE IMAGES WITH THEIR RESPECTIVE MASKS\n",
        "\n",
        "# code with the similar naive approach to plot the same named images together\n",
        "\n",
        "\n",
        "figure, axis = plt.subplots(5,2)\n",
        "\n",
        "count1 = 0\n",
        "\n",
        "for filename1 in os.listdir('/content/Tissue-Images'):\n",
        "  for filename2 in os.listdir('/content/Binary-Mask'):\n",
        "    filename = list(filename1)\n",
        "    if filename[0] == '.':\n",
        "      filename = filename[2:]\n",
        "      filename1 = ''.join(filename)\n",
        "    if filename1 == filename2:\n",
        "      img1 = plt.imread(os.path.join('/content/Tissue-Images', filename1), 0)\n",
        "      img2 = plt.imread(os.path.join('/content/Binary-Mask', filename2), 0)\n",
        "      axis[count1, 0].imshow(img1)\n",
        "      # axis[count1, 0].set_title('tissue image')\n",
        "      axis[count1, 1].imshow(img2)\n",
        "      # axis[count1, 1].set_title('binary mask')\n",
        "      count1 +=1\n",
        "    if count1 == 5:\n",
        "      break\n",
        "  if count1 == 5:\n",
        "    break"
      ]
    },
    {
      "cell_type": "code",
      "execution_count": null,
      "metadata": {
        "colab": {
          "base_uri": "https://localhost:8080/",
          "height": 867
        },
        "id": "1r2EwMkqoP6d",
        "outputId": "319187f3-572b-4cdc-a9b3-cbbc98996ec6"
      },
      "outputs": [],
      "source": [
        "# PLOTTING THE TEST TISSUE IMAGES WITH THEIR RESPECTIVE MASKS\n",
        "\n",
        "\n",
        "figure, axis = plt.subplots(5,2)\n",
        "\n",
        "count1 = 0\n",
        "\n",
        "for filename1 in os.listdir('/content/Tissue-Images-Test'):\n",
        "  for filename2 in os.listdir('/content/Binary-Mask-Test'):\n",
        "    filename = list(filename1)\n",
        "    if filename[0] == '.':\n",
        "      filename = filename[2:]\n",
        "      filename1 = ''.join(filename)\n",
        "    if filename1 == filename2:\n",
        "      img1 = plt.imread(os.path.join('/content/Tissue-Images-Test', filename1), 0)\n",
        "      img2 = plt.imread(os.path.join('/content/Binary-Mask-Test', filename2), 0)\n",
        "      axis[count1, 0].imshow(img1)\n",
        "      axis[count1, 1].imshow(img2)\n",
        "      count1 +=1\n",
        "    if count1 == 5:\n",
        "      break\n",
        "  if count1 == 5:\n",
        "    break"
      ]
    },
    {
      "cell_type": "code",
      "execution_count": null,
      "metadata": {
        "id": "oiceSulWkurN"
      },
      "outputs": [],
      "source": [
        "def resize(input_image, input_mask):                                            # function for resizing the images to 128*128 for easier application\n",
        "  input_image = cv.resize(input_image, (image_size, image_size))                # could've just let it be some even number but the mask and imgaes had to be of same size\n",
        "  input_mask = cv.resize(input_mask, (image_size, image_size))                  # if not resized to 128 we just had to chain it to some expected 2*n sized layers afterwards to some dimension smaller than before    \n",
        "\n",
        "  return [input_image, input_mask]\n",
        "\n",
        "def normalize(img, mask):                                                       # normalizing image for faster working because we are anyways working with binary images\n",
        "  img = img/255\n",
        "  mask = mask-1\n",
        "  return [img, mask]\n",
        "\n",
        "def augment(input_image, input_mask):                                           # tried using the augment function for making training set larger but gave weird errors so scrapped it\n",
        "   if tf.random.uniform(()) > 0.5:\n",
        "       # for random flipping of the image and mask\n",
        "       input_image = tf.image.flip_left_right(input_image)\n",
        "       input_mask = tf.image.flip_left_right(input_mask)\n",
        "      # print(input_image.shape, input_mask.shape)\n",
        "\n",
        "   return input_image, input_mask\n",
        "\n",
        "def train_img_load(filename):                                                   # for taking an image and its mask then doing the necessary operations on it before using as input to model\n",
        "  img = plt.imread(os.path.join('/content/Tissue-Images/', filename), 0)        # returns both the image and its respective mask\n",
        "  mask = plt.imread(os.path.join('/content/Binary-Mask/', filename), 0)\n",
        "  img, mask = resize(img, mask)\n",
        "  # img, mask = augment(img, mask)\n",
        "  img, mask = normalize(img, mask)\n",
        "  return [img, mask]\n",
        "\n",
        "def test_img_load(filename):\n",
        "  img = plt.imread(os.path.join('/content/Tissue-Images-Test/', filename), 0)\n",
        "  mask = plt.imread(os.path.join('/content/Binary-Mask-Test/', filename), 0)\n",
        "  img, mask = resize(img, mask)\n",
        "  img, mask = normalize(img, mask)\n",
        "  return [np.array(img), np.array(mask)]\n",
        "\n"
      ]
    },
    {
      "cell_type": "code",
      "execution_count": null,
      "metadata": {},
      "outputs": [],
      "source": [
        "image_size = 128"
      ]
    },
    {
      "cell_type": "code",
      "execution_count": null,
      "metadata": {
        "id": "Vhf6AlZ45jvU"
      },
      "outputs": [],
      "source": [
        "train_dataset_x = []                                                            # this part of the code makes the input sets\n",
        "train_dataset_y = []                                            \n",
        "test_dataset_x = []\n",
        "test_dataset_y = []\n",
        "\n",
        "for filename in sorted_tissue:                                                  # literally takes in one image name and saves the mask and corresponding img to \"bruh\"\n",
        "  bruh = train_img_load(filename)\n",
        "  train_dataset_x.append(bruh[0])\n",
        "  train_dataset_y.append(bruh[1])\n",
        "\n",
        "for filename in sorted_tissue_test:\n",
        "  bruh = test_img_load(filename)                                                # storing the test datasets in lists\n",
        "  test_dataset_x.append(bruh[0])\n",
        "  test_dataset_y.append(bruh[1])\n",
        "\n",
        "train_dataset_x = np.array(train_dataset_x)                                     # lists converted to np arrays for working with unet\n",
        "train_dataset_y = np.array(train_dataset_y)\n",
        "test_dataset_x = np.array(test_dataset_x)\n",
        "test_dataset_y = np.array(test_dataset_y)\n"
      ]
    },
    {
      "cell_type": "code",
      "execution_count": null,
      "metadata": {
        "id": "lUXJmvICKBsJ"
      },
      "outputs": [],
      "source": [
        "def down_block(x, filters, kernel_size=(3, 3), padding=\"same\", strides=1):\n",
        "    c = keras.layers.Conv2D(filters, kernel_size, padding=padding, strides=strides, activation=\"relu\")(x)\n",
        "    c = keras.layers.Conv2D(filters, kernel_size, padding=padding, strides=strides, activation=\"relu\")(c)\n",
        "    p = keras.layers.MaxPool2D((2, 2), (2, 2))(c)\n",
        "    return c, p\n",
        "\n",
        "def up_block(x, skip, filters, kernel_size=(3, 3), padding=\"same\", strides=1):\n",
        "    us = keras.layers.UpSampling2D((2, 2))(x)\n",
        "    concat = keras.layers.Concatenate()([us, skip])\n",
        "    c = keras.layers.Conv2D(filters, kernel_size, padding=padding, strides=strides, activation=\"relu\")(concat)\n",
        "    c = keras.layers.Conv2D(filters, kernel_size, padding=padding, strides=strides, activation=\"relu\")(c)\n",
        "    return c\n",
        "\n",
        "def bottleneck(x, filters, kernel_size=(3, 3), padding=\"same\", strides=1):\n",
        "    c = keras.layers.Conv2D(filters, kernel_size, padding=padding, strides=strides, activation=\"relu\")(x)\n",
        "    c = keras.layers.Conv2D(filters, kernel_size, padding=padding, strides=strides, activation=\"relu\")(c)\n",
        "    return c"
      ]
    },
    {
      "cell_type": "code",
      "execution_count": 58,
      "metadata": {
        "id": "GxIumS3pKO0e"
      },
      "outputs": [],
      "source": [
        "image_size = 128"
      ]
    },
    {
      "cell_type": "code",
      "execution_count": 121,
      "metadata": {
        "id": "a1etQLyXKEbN"
      },
      "outputs": [],
      "source": [
        "def UNet():\n",
        "    f = [16, 32, 64, 128, 256]\n",
        "    inputs = keras.layers.Input((image_size, image_size, 3))\n",
        "    \n",
        "    p0 = inputs\n",
        "    c1, p1 = down_block(p0, f[0]) #128 -> 64\n",
        "    c2, p2 = down_block(p1, f[1]) #64 -> 32\n",
        "    c3, p3 = down_block(p2, f[2]) #32 -> 16\n",
        "    c4, p4 = down_block(p3, f[3]) #16->8\n",
        "    \n",
        "    bn = bottleneck(p4, f[4])\n",
        "    \n",
        "    u1 = up_block(bn, c4, f[3]) #8 -> 16\n",
        "    u2 = up_block(u1, c3, f[2]) #16 -> 32\n",
        "    u3 = up_block(u2, c2, f[1]) #32 -> 64\n",
        "    u4 = up_block(u3, c1, f[0]) #64 -> 128\n",
        "    \n",
        "    outputs = keras.layers.Conv2D(1, (1, 1), padding=\"same\", activation=\"sigmoid\")(u4)\n",
        "    model = keras.models.Model(inputs, outputs)\n",
        "    return model"
      ]
    },
    {
      "cell_type": "markdown",
      "metadata": {
        "id": "FMON0exDfMGh"
      },
      "source": [
        "used reference from \"https://github.com/nikhilroxtomar/UNet-Segmentation-in-Keras-TensorFlow/blob/master/unet-segmentation.ipynb\"\n",
        ". I tried making unet architecture by myself but i didn't know what exactly was going wrong with it, so i decided to go with one that is already known to be working correctly. I did the same thing but without up-sampling and down-sampling blocks separately, rather directly going line by line and then couldn't find the error in it."
      ]
    },
    {
      "cell_type": "code",
      "execution_count": 122,
      "metadata": {
        "id": "2DwacR4rzyHN"
      },
      "outputs": [],
      "source": [
        "def dice_loss(input, target):                                                         # dice loss function \n",
        "  input_r = tf.reshape(input, [-1])\n",
        "  target_r = tf.reshape(target, [-1])\n",
        "\n",
        "  input_r = tf.cast(input_r, tf.float32)                                              # due the errros received, changed the input to float from int\n",
        "  # print(input_f.shape, tf.shape(target_f))\n",
        "  # intersection = tf.math.reduce_sum((input_f * target_f))\n",
        "  intersection = input_r +target_r\n",
        "  intersection = tf.math.reduce_sum(intersection)\n",
        "  loss = 1-(2*intersection)/(tf.math.reduce_sum(input_r)+tf.math.reduce_sum(target_r))\n",
        "  return loss\n",
        "\n",
        "# light1 = light.flatten()\n",
        "# print(len(light1))\n",
        "# print(dice_loss(light, light))"
      ]
    },
    {
      "cell_type": "code",
      "execution_count": 123,
      "metadata": {
        "id": "gllKUhy_KI3O"
      },
      "outputs": [],
      "source": [
        "model = UNet()\n",
        "model.compile(optimizer=\"adam\", loss=dice_loss, metrics=[\"acc\"])        # compiled model with dice loss function\n",
        "# model.summary()"
      ]
    },
    {
      "cell_type": "code",
      "execution_count": null,
      "metadata": {
        "colab": {
          "base_uri": "https://localhost:8080/"
        },
        "id": "QQYkyB86BRax",
        "outputId": "f9c70951-1989-43c6-c418-e1f76035a563"
      },
      "outputs": [],
      "source": [
        "model.fit(x = train_dataset_x, y = train_dataset_y, epochs = 20, validation_data = (test_dataset_x, test_dataset_y))    \n",
        "# i couldn't figure out the issue with this, fixing of weird errors took most of my time."
      ]
    },
    {
      "cell_type": "code",
      "execution_count": null,
      "metadata": {
        "colab": {
          "base_uri": "https://localhost:8080/"
        },
        "id": "XYJ3ZNwpJCs0",
        "outputId": "b0984abd-d9ae-40ec-aa1a-b4279d116f06"
      },
      "outputs": [],
      "source": [
        "model.save_weights(\"UNetW.h5\")\n",
        "\n",
        "x,y  = train_dataset_x, train_dataset_y\n",
        "result = model.predict(x)\n",
        "\n",
        "result = result > 0.5\n"
      ]
    },
    {
      "cell_type": "code",
      "execution_count": 126,
      "metadata": {
        "colab": {
          "base_uri": "https://localhost:8080/",
          "height": 487
        },
        "id": "UyY8SBTZKnIh",
        "outputId": "4358072c-082b-4a1c-e99e-e2ba9c22d08f"
      },
      "outputs": [
        {
          "data": {
            "text/plain": [
              "<matplotlib.image.AxesImage at 0x7fe64fb2fb50>"
            ]
          },
          "execution_count": 126,
          "metadata": {},
          "output_type": "execute_result"
        },
        {
          "data": {
            "image/png": "[encoded data removed]",
            "text/plain": [
              "<Figure size 1296x1080 with 2 Axes>"
            ]
          },
          "metadata": {
            "needs_background": "light"
          },
          "output_type": "display_data"
        }
      ],
      "source": [
        "fig = plt.figure()                                                              # block of code for showing the predicted images, it is decent enough sometimes, sometimes not\n",
        "fig.subplots_adjust(hspace=0.4, wspace=0.4)                                     \n",
        "\n",
        "ax = fig.add_subplot(1, 2, 1)\n",
        "ax.imshow(np.reshape(y[0]*255, (image_size, image_size)), cmap=\"gray\")\n",
        "\n",
        "ax = fig.add_subplot(1, 2, 2)\n",
        "ax.imshow(np.reshape(result[0]*255, (image_size, image_size)), cmap=\"gray\")"
      ]
    },
    {
      "cell_type": "markdown",
      "metadata": {
        "id": "E2OYt-9nhG2b"
      },
      "source": [
        "I commented out one block from the architecture at a time and tried the model, it was giving out bigger blobs of pixels where it shouldn't have. As per class discussions this was because of the model not being able to read and understand complex shape boundaries properly. \n",
        "Couldn't try the number of layers properly but from my reading about unet, number of filters per layer would be directly proportional to detail that the model can read from the image."
      ]
    }
  ],
  "metadata": {
    "accelerator": "GPU",
    "colab": {
      "collapsed_sections": [],
      "provenance": []
    },
    "kernelspec": {
      "display_name": "Python 3.10.0 64-bit",
      "language": "python",
      "name": "python3"
    },
    "language_info": {
      "name": "python",
      "version": "3.10.0"
    },
    "vscode": {
      "interpreter": {
        "hash": "369f2c481f4da34e4445cda3fffd2e751bd1c4d706f27375911949ba6bb62e1c"
      }
    }
  },
  "nbformat": 4,
  "nbformat_minor": 0
}
